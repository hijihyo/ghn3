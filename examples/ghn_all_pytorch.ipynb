{
 "cells": [
  {
   "cell_type": "markdown",
   "id": "22462f65",
   "metadata": {},
   "source": [
    "# Loading GHN-3 and Predicting Parameters for all PyTorch ImageNet models \n",
    "\n",
    "## Paper: Can We Scale Transformers to Predict Parameters of Diverse ImageNet Models?  https://arxiv.org/abs/2303.04143 \n",
    "\n",
    "**ICML 2023**\n",
    "\n",
    "Authors: Boris Knyazev, Doha Hwang, Simon Lacoste-Julien"
   ]
  },
  {
   "cell_type": "markdown",
   "id": "4a1a75bb",
   "metadata": {},
   "source": [
    "## 1. Install ppuda (optional, if not installed yet)"
   ]
  },
  {
   "cell_type": "code",
   "execution_count": null,
   "id": "93835e26",
   "metadata": {},
   "outputs": [],
   "source": [
    "# Copyright (c) 2023. Samsung Electronics Co., Ltd. All Rights Reserved.\n",
    "# All rights reserved.\n",
    "#\n",
    "# This source code is licensed under the license found in the\n",
    "# LICENSE file in the root directory of this source tree.\n",
    "\n",
    "!pip install git+https://github.com/facebookresearch/ppuda.git\n",
    "!pip show ppuda"
   ]
  },
  {
   "cell_type": "code",
   "execution_count": 5,
   "id": "85c7ed79",
   "metadata": {},
   "outputs": [
    {
     "name": "stdout",
     "output_type": "stream",
     "text": [
      "torch 2.0.1+cu117\n",
      "torchvision 0.15.2+cu117\n",
      "Make sure PyTorch: >= 1.12.1 and Torchvision >= 0.13.1 are installed to make our code work properly\n"
     ]
    }
   ],
   "source": [
    "# Import required modules\n",
    "import inspect\n",
    "import json\n",
    "import os\n",
    "import sys\n",
    "import time\n",
    "import types\n",
    "\n",
    "import joblib\n",
    "import matplotlib.pyplot as plt\n",
    "import torch\n",
    "import torch.nn as nn\n",
    "import torchvision\n",
    "import torchvision.models as models\n",
    "from huggingface_hub import hf_hub_download\n",
    "\n",
    "sys.path.append(os.path.abspath(os.path.join(\"..\")))  # to import ghn3 from the root folder\n",
    "from ghn3 import Graph, from_pretrained, get_metadata\n",
    "\n",
    "print(\"torch\", torch.__version__)\n",
    "print(\"torchvision\", torchvision.__version__)\n",
    "print(\"Make sure PyTorch: >= 1.12.1 and Torchvision >= 0.13.1 are installed to make our code work properly\")"
   ]
  },
  {
   "cell_type": "markdown",
   "id": "69ee744c",
   "metadata": {},
   "source": [
    "## 2. Load GHN-3\n",
    "\n",
    "As the largest and best performing GHN-3 model (`ghn3xlm16`) takes about 2.5GB, it takes a while to download the model.\n",
    "\n",
    "The model is downloaded from HuggingFace: https://huggingface.co/SamsungSAILMontreal/ghn3/tree/main.\n",
    "\n",
    "We made four main GHN-3 variants from our paper available: `ghn3tm8, ghn3sm8, ghn3lm8, ghn3xlm16`.\n",
    "\n",
    "We also released other GHN-3 variants such as ablations at https://huggingface.co/SamsungSAILMontreal/ghn3/tree/main/other."
   ]
  },
  {
   "cell_type": "code",
   "execution_count": 2,
   "id": "ad84b1c9",
   "metadata": {},
   "outputs": [
    {
     "name": "stdout",
     "output_type": "stream",
     "text": [
      "loading ghn3xlm16.pt with 654365184 parameters is done!\n"
     ]
    }
   ],
   "source": [
    "ghn3_name = \"ghn3xlm16.pt\"\n",
    "ghn = from_pretrained(ghn3_name)  # one of 'ghn3tm8.pt', 'ghn3sm8.pt', 'ghn3lm8.pt', 'ghn3xlm16.pt' (default)\n",
    "print(\"loading %s with %d parameters is done!\" % (ghn3_name, sum([p.numel() for p in ghn.parameters()])))"
   ]
  },
  {
   "cell_type": "markdown",
   "id": "9a59e25f",
   "metadata": {},
   "source": [
    "## 3. Predict parameters for ResNet-50 and compare to the downloaded ResNet-50 for sanity check"
   ]
  },
  {
   "cell_type": "code",
   "execution_count": 3,
   "id": "80533f2f",
   "metadata": {},
   "outputs": [
    {
     "name": "stdout",
     "output_type": "stream",
     "text": [
      "Parameter prediction for ResNet-50 done in 3.385 seconds on cpu\n"
     ]
    },
    {
     "data": {
      "image/png": "[encoded data removed]",
      "text/plain": [
       "<Figure size 400x400 with 1 Axes>"
      ]
     },
     "metadata": {},
     "output_type": "display_data"
    },
    {
     "name": "stdout",
     "output_type": "stream",
     "text": [
      "Sanity check on ResNet-50 is done!\n"
     ]
    }
   ],
   "source": [
    "device = \"cpu\"  # let's do everything on cpu because it's fast anyway\n",
    "\n",
    "fine_tuning = True  # true if predicted parameters will be fined or false for direct evaluation of predicted parameters\n",
    "\n",
    "model = models.resnet50()\n",
    "graph = Graph(model)\n",
    "# graph.visualize()  # to visualize ResNet-50 graph\n",
    "start = time.time()\n",
    "model = ghn(model, graph, bn_track_running_stats=fine_tuning, keep_grads=False)\n",
    "print(\"Parameter prediction for ResNet-50 done in %.3f seconds on %s\" % (time.time() - start, device))\n",
    "\n",
    "weights = model.conv1.weight.data.cpu()\n",
    "grid = torchvision.utils.make_grid(weights, nrow=8, normalize=True, padding=1)\n",
    "plt.figure(figsize=(4, 4))\n",
    "plt.title(weights.shape)\n",
    "plt.imshow(grid.numpy().transpose((1, 2, 0)))\n",
    "plt.show()\n",
    "\n",
    "model_sanity_check = models.resnet50()\n",
    "model_sanity_check.load_state_dict(\n",
    "    joblib.load(hf_hub_download(repo_id=\"SamsungSAILMontreal/ghn3\", filename=\"resnet50_ghn3xlm16_init.pt\"))[\"state_dict\"]\n",
    ")\n",
    "\n",
    "dict1 = dict(model.named_parameters())\n",
    "for n, p in model_sanity_check.named_parameters():\n",
    "    if not torch.allclose(p, dict1[n], atol=1e-6):\n",
    "        print(\"warning: big discrepancy {:.3e} for param: {}\".format(torch.norm(p - dict1[n]), n))\n",
    "\n",
    "print(\"Sanity check on ResNet-50 is done!\")"
   ]
  },
  {
   "cell_type": "markdown",
   "id": "ca002e2c",
   "metadata": {},
   "source": [
    "## 4. Predict parameters for all PyTorch models"
   ]
  },
  {
   "cell_type": "code",
   "execution_count": 4,
   "id": "2c645a2c",
   "metadata": {},
   "outputs": [
    {
     "name": "stdout",
     "output_type": "stream",
     "text": [
      "=== MAXVIT_T was not in PyTorch at the moment of GHN-3 evaluation, so skipping it in this notebook ===\n",
      "=== REGNET_Y_128GF was not in PyTorch at the moment of GHN-3 evaluation, so skipping it in this notebook ===\n",
      "=== SWIN_V2_B was not in PyTorch at the moment of GHN-3 evaluation, so skipping it in this notebook ===\n",
      "=== SWIN_V2_S was not in PyTorch at the moment of GHN-3 evaluation, so skipping it in this notebook ===\n",
      "=== SWIN_V2_T was not in PyTorch at the moment of GHN-3 evaluation, so skipping it in this notebook ===\n",
      "=== VIT_H_14 was not in PyTorch at the moment of GHN-3 evaluation, so skipping it in this notebook ===\n",
      "\n",
      "74 PyTorch models found. Predicting parameters for all...\n",
      "1/74: ALEXNET with 61.10M params...done in 2.05 sec, total param norm=72.48 (norms matched)\n",
      "2/74: CONVNEXT_BASE with 88.59M params...done in 7.43 sec, total param norm=355.19 (norms matched)\n",
      "3/74: CONVNEXT_LARGE with 197.77M params...done in 6.67 sec, total param norm=399.83 (norms matched)\n",
      "4/74: CONVNEXT_SMALL with 50.22M params...done in 6.51 sec, total param norm=286.94 (norms matched)\n",
      "5/74: CONVNEXT_TINY with 28.59M params...done in 4.08 sec, total param norm=219.80 (norms matched)\n",
      "6/74: DENSENET121 with 7.98M params...done in 3.63 sec, total param norm=94.98 (norms matched)\n",
      "7/74: DENSENET161 with 28.68M params...done in 5.52 sec, total param norm=94.24 (norms matched)\n",
      "8/74: DENSENET169 with 14.15M params...done in 4.65 sec, total param norm=99.61 (norms matched)\n",
      "9/74: DENSENET201 with 20.01M params...done in 5.71 sec, total param norm=103.12 (norms matched)\n",
      "10/74: EFFICIENTNET_B0 with 5.29M params...done in 5.87 sec, total param norm=138.01 (norms matched)\n",
      "11/74: EFFICIENTNET_B1 with 7.79M params...done in 7.85 sec, total param norm=150.36 (norms matched)\n",
      "12/74: EFFICIENTNET_B2 with 9.11M params...done in 8.90 sec, total param norm=139.94 (norms matched)\n",
      "13/74: EFFICIENTNET_B3 with 12.23M params...done in 8.40 sec, total param norm=156.64 (norms matched)\n",
      "14/74: EFFICIENTNET_B4 with 19.34M params...done in 9.55 sec, total param norm=169.39 (norms matched)\n",
      "15/74: EFFICIENTNET_B5 with 30.39M params...done in 10.10 sec, total param norm=185.97 (norms matched)\n",
      "16/74: EFFICIENTNET_B6 with 43.04M params...done in 12.90 sec, total param norm=203.34 (norms matched)\n",
      "17/74: EFFICIENTNET_B7 with 66.35M params...done in 13.38 sec, total param norm=239.44 (norms matched)\n",
      "18/74: EFFICIENTNET_V2_L with 118.52M params...done in 12.78 sec, total param norm=278.36 (norms matched)\n",
      "19/74: EFFICIENTNET_V2_M with 54.14M params...done in 10.85 sec, total param norm=220.88 (norms matched)\n",
      "20/74: EFFICIENTNET_V2_S with 21.46M params...done in 7.98 sec, total param norm=182.78 (norms matched)\n",
      "21/74: GOOGLENET with 13.00M params...WARNING: node=56-AdaptiveAvgPool2DBackward0 does not have a path to node=153-fc.bias\n",
      "WARNING: node=105-AdaptiveAvgPool2DBackward0 does not have a path to node=153-fc.bias\n",
      "WARNING: n_glob_avg should be 1 in most architectures, but is 3 in this architecture.\n",
      "done in 5.41 sec, total param norm=98.24 (norms matched)\n",
      "22/74: INCEPTION_V3 with 27.16M params...WARNING: node=162-AvgPool2DBackward0 does not have a path to node=227-fc.bias\n",
      "WARNING: node=175-MeanBackward1 does not have a path to node=227-fc.bias\n",
      "WARNING: n_glob_avg should be 1 in most architectures, but is 2 in this architecture.\n",
      "done in 8.45 sec, total param norm=118.01 (norms matched)\n",
      "23/74: MNASNET0_5 with 2.22M params...done in 5.22 sec, total param norm=90.50 (norms matched)\n",
      "24/74: MNASNET0_75 with 3.17M params...done in 5.02 sec, total param norm=105.20 (norms matched)\n",
      "25/74: MNASNET1_0 with 4.38M params...done in 4.95 sec, total param norm=117.64 (norms matched)\n",
      "26/74: MNASNET1_3 with 6.28M params...done in 4.87 sec, total param norm=114.14 (norms matched)\n",
      "27/74: MOBILENET_V2 with 3.50M params...done in 3.62 sec, total param norm=110.26 (norms matched)\n",
      "28/74: MOBILENET_V3_LARGE with 5.48M params...done in 6.07 sec, total param norm=87.07 (norms matched)\n",
      "29/74: MOBILENET_V3_SMALL with 2.54M params...done in 6.23 sec, total param norm=78.99 (norms matched)\n",
      "30/74: REGNET_X_16GF with 54.28M params...done in 2.39 sec, total param norm=122.67 (norms matched)\n",
      "31/74: REGNET_X_1_6GF with 9.19M params...done in 2.36 sec, total param norm=115.36 (norms matched)\n",
      "32/74: REGNET_X_32GF with 107.81M params...done in 2.38 sec, total param norm=125.59 (norms matched)\n",
      "33/74: REGNET_X_3_2GF with 15.30M params...done in 2.54 sec, total param norm=114.02 (norms matched)\n",
      "34/74: REGNET_X_400MF with 5.50M params...done in 3.67 sec, total param norm=104.01 (norms matched)\n",
      "35/74: REGNET_X_800MF with 7.26M params...done in 3.14 sec, total param norm=99.12 (norms matched)\n",
      "36/74: REGNET_X_8GF with 39.57M params...done in 2.38 sec, total param norm=114.95 (norms matched)\n",
      "37/74: REGNET_Y_16GF with 83.59M params...done in 3.21 sec, total param norm=170.15 (norms matched)\n",
      "38/74: REGNET_Y_1_6GF with 11.20M params...done in 5.80 sec, total param norm=124.49 (norms matched)\n",
      "39/74: REGNET_Y_32GF with 145.05M params...done in 3.06 sec, total param norm=184.03 (norms matched)\n",
      "40/74: REGNET_Y_3_2GF with 19.44M params...done in 4.19 sec, total param norm=146.14 (norms matched)\n",
      "41/74: REGNET_Y_400MF with 4.34M params...done in 4.93 sec, total param norm=109.98 (norms matched)\n",
      "42/74: REGNET_Y_800MF with 6.43M params...done in 3.95 sec, total param norm=127.56 (norms matched)\n",
      "43/74: REGNET_Y_8GF with 39.38M params...done in 3.09 sec, total param norm=153.89 (norms matched)\n",
      "44/74: RESNET101 with 44.55M params...done in 3.88 sec, total param norm=117.25 (norms matched)\n",
      "45/74: RESNET152 with 60.19M params...done in 4.95 sec, total param norm=123.91 (norms matched)\n",
      "46/74: RESNET18 with 11.69M params...done in 2.67 sec, total param norm=73.91 (norms matched)\n",
      "47/74: RESNET34 with 21.80M params...done in 3.06 sec, total param norm=75.99 (norms matched)\n",
      "48/74: RESNET50 with 25.56M params...done in 3.30 sec, total param norm=108.45 (norms matched)\n",
      "49/74: RESNEXT101_32X8D with 88.79M params...done in 4.13 sec, total param norm=116.05 (norms matched)\n",
      "50/74: RESNEXT101_64X4D with 83.46M params...done in 3.87 sec, total param norm=115.20 (norms matched)\n",
      "51/74: RESNEXT50_32X4D with 25.03M params...done in 3.01 sec, total param norm=104.48 (norms matched)\n",
      "52/74: SHUFFLENET_V2_X0_5 with 1.37M params...done in 2.59 sec, total param norm=83.48 (norms matched)\n",
      "53/74: SHUFFLENET_V2_X1_0 with 2.28M params...done in 2.89 sec, total param norm=85.52 (norms matched)\n",
      "54/74: SHUFFLENET_V2_X1_5 with 3.50M params...done in 2.92 sec, total param norm=84.96 (norms matched)\n",
      "55/74: SHUFFLENET_V2_X2_0 with 7.39M params...done in 2.54 sec, total param norm=100.91 (norms matched)\n",
      "56/74: SQUEEZENET1_0 with 1.25M params...done in 2.52 sec, total param norm=72.14 (norms matched)\n",
      "57/74: SQUEEZENET1_1 with 1.24M params...done in 2.45 sec, total param norm=71.42 (norms matched)\n",
      "58/74: SWIN_B with 87.77M params...done in 3.16 sec, total param norm=232.28 (norms matched)\n",
      "59/74: SWIN_S with 49.61M params...done in 3.28 sec, total param norm=189.28 (norms matched)\n",
      "60/74: SWIN_T with 28.29M params...done in 1.78 sec, total param norm=184.69 (norms matched)\n",
      "61/74: VGG11 with 132.86M params...done in 1.54 sec, total param norm=67.99 (norms matched)\n",
      "62/74: VGG11_BN with 132.87M params...done in 1.54 sec, total param norm=64.61 (norms matched)\n",
      "63/74: VGG13 with 133.05M params...done in 1.97 sec, total param norm=59.84 (norms matched)\n",
      "64/74: VGG13_BN with 133.05M params...done in 2.00 sec, total param norm=66.59 (norms matched)\n",
      "65/74: VGG16 with 138.36M params...done in 2.20 sec, total param norm=62.99 (norms matched)\n",
      "66/74: VGG16_BN with 138.37M params...done in 2.26 sec, total param norm=75.76 (norms matched)\n",
      "67/74: VGG19 with 143.67M params...done in 2.22 sec, total param norm=64.59 (norms matched)\n",
      "68/74: VGG19_BN with 143.68M params...done in 2.74 sec, total param norm=73.97 (norms matched)\n",
      "69/74: VIT_B_16 with 86.57M params...WARNING: setting a 4d size (1, 768, 14, 14) instead of 3d (1, 197, 768)\n",
      "WARNING: n_glob_avg should be 1 in most architectures, but is 0 in this architecture.\n",
      "done in 2.61 sec, total param norm=366.08 (norms matched)\n",
      "70/74: VIT_B_32 with 88.22M params...WARNING: setting a 4d size (1, 768, 7, 7) instead of 3d (1, 50, 768)\n",
      "WARNING: n_glob_avg should be 1 in most architectures, but is 0 in this architecture.\n",
      "done in 2.36 sec, total param norm=358.91 (norms matched)\n",
      "71/74: VIT_L_16 with 304.33M params...WARNING: setting a 4d size (1, 1024, 14, 14) instead of 3d (1, 197, 1024)\n",
      "WARNING: n_glob_avg should be 1 in most architectures, but is 0 in this architecture.\n",
      "done in 3.82 sec, total param norm=511.73 (norms matched)\n",
      "72/74: VIT_L_32 with 306.54M params...WARNING: setting a 4d size (1, 1024, 7, 7) instead of 3d (1, 50, 1024)\n",
      "WARNING: n_glob_avg should be 1 in most architectures, but is 0 in this architecture.\n",
      "done in 3.30 sec, total param norm=512.32 (norms matched)\n",
      "73/74: WIDE_RESNET101_2 with 126.89M params...done in 3.42 sec, total param norm=118.16 (norms matched)\n",
      "74/74: WIDE_RESNET50_2 with 68.88M params...done in 2.62 sec, total param norm=108.55 (norms matched)\n",
      "\n",
      "done for 74 models in 381.50 seconds, norms matched for 74 models\n"
     ]
    }
   ],
   "source": [
    "norms = get_metadata(ghn3_name, attr=\"paramnorm\")\n",
    "\n",
    "# Enumerate all PyTorch models of ImageNet classification\n",
    "# Should be >= 74 models in torchvision>=0.13.1\n",
    "all_torch_models = []\n",
    "for m in dir(models):\n",
    "    if (\n",
    "        m[0].isupper()\n",
    "        or m.startswith(\"_\")\n",
    "        or m.startswith(\"get\")\n",
    "        or m == \"list_models\"\n",
    "        or not inspect.isfunction(eval(\"models.%s\" % m))\n",
    "    ):\n",
    "        continue\n",
    "\n",
    "    if m not in norms:\n",
    "        print(\n",
    "            \"=== %s was not in PyTorch at the moment of GHN-3 evaluation, so skipping it in this notebook ===\"\n",
    "            % m.upper()\n",
    "        )\n",
    "        continue  # skip for consistency with the paper\n",
    "\n",
    "    all_torch_models.append(m)\n",
    "\n",
    "print(\"\\n%d PyTorch models found. Predicting parameters for all...\" % len(all_torch_models))\n",
    "\n",
    "fine_tuning = True  # true if predicted parameters will be fined or false for direct evaluation of predicted parameters\n",
    "start_all = time.time()\n",
    "norms_matched = []\n",
    "for m_ind, m in enumerate(all_torch_models):\n",
    "    kw_args = {\"init_weights\": False} if m in [\"googlenet\", \"inception_v3\"] else {}\n",
    "\n",
    "    # Predict parameters\n",
    "    model = eval(f\"models.{m}(**kw_args)\")\n",
    "\n",
    "    if not isinstance(model, torch.nn.Module):\n",
    "        print(\"skipping %s, because it is not torch.nn.Module\" % m)\n",
    "        continue\n",
    "\n",
    "    n_params = sum([p.numel() for p in model.parameters()]) / 10**6\n",
    "    if m == \"inception_v3\":\n",
    "        model.expected_input_sz = 299\n",
    "    print(\"{}/{}: {} with {:.2f}M params\".format(m_ind + 1, len(all_torch_models), m.upper(), n_params), end=\"...\")\n",
    "    start = time.time()\n",
    "    try:\n",
    "        model = ghn(model, bn_track_running_stats=fine_tuning, keep_grads=False)\n",
    "    except Exception as e:\n",
    "        print(\"ERROR for model %s: %s\" % (m, e))\n",
    "        continue\n",
    "\n",
    "    total_norm = torch.norm(torch.stack([p.norm() for p in model.parameters()]), 2)\n",
    "    norms_matched.append(abs(norms[m] - total_norm.item()) < 1e-2)\n",
    "    print(\n",
    "        \"done in {:.2f} sec, total param norm={:.2f} ({})\".format(\n",
    "            time.time() - start,\n",
    "            total_norm.item(),\n",
    "            \"norms matched\" if norms_matched[-1] else (\"ERROR: norm not matched with %.2f\" % norms[m]),\n",
    "        )\n",
    "    )\n",
    "\n",
    "    # \"WARNING: number of predicted ...\" means that some layers in the model are not supported by the GHN\n",
    "    # unsupported modules are initialized using built-in PyTorch methods\n",
    "\n",
    "print(\n",
    "    \"\\ndone for {} models in {:.2f} seconds, norms matched for {} models\".format(\n",
    "        len(norms_matched), time.time() - start_all, sum(norms_matched)\n",
    "    )\n",
    ")"
   ]
  }
 ],
 "metadata": {
  "kernelspec": {
   "display_name": "Python 3 (ipykernel)",
   "language": "python",
   "name": "python3"
  },
  "language_info": {
   "codemirror_mode": {
    "name": "ipython",
    "version": 3
   },
   "file_extension": ".py",
   "mimetype": "text/x-python",
   "name": "python",
   "nbconvert_exporter": "python",
   "pygments_lexer": "ipython3",
   "version": "3.8.2"
  }
 },
 "nbformat": 4,
 "nbformat_minor": 5
}
